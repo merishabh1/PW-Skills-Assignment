{
  "nbformat": 4,
  "nbformat_minor": 0,
  "metadata": {
    "colab": {
      "provenance": [],
      "authorship_tag": "ABX9TyPrT7h07ADxA29MozYFmzx5",
      "include_colab_link": true
    },
    "kernelspec": {
      "name": "python3",
      "display_name": "Python 3"
    },
    "language_info": {
      "name": "python"
    }
  },
  "cells": [
    {
      "cell_type": "markdown",
      "metadata": {
        "id": "view-in-github",
        "colab_type": "text"
      },
      "source": [
        "<a href=\"https://colab.research.google.com/github/merishabh1/PW-Skills-Assignment/blob/main/30th_Jan_Assignment.ipynb\" target=\"_parent\"><img src=\"https://colab.research.google.com/assets/colab-badge.svg\" alt=\"Open In Colab\"/></a>"
      ]
    },
    {
      "cell_type": "code",
      "execution_count": 2,
      "metadata": {
        "colab": {
          "base_uri": "https://localhost:8080/"
        },
        "id": "KzGu9p0d9AVM",
        "outputId": "80c2a850-8a76-4c5a-e00b-aec599d118a1"
      },
      "outputs": [
        {
          "output_type": "stream",
          "name": "stdout",
          "text": [
            "Enter your percentage: 60\n",
            "Your Grade is C\n"
          ]
        }
      ],
      "source": [
        "#Soln 1\n",
        "percentage = float(input(\"Enter your percentage: \"))\n",
        "if percentage >90:\n",
        "  print(\"Your Grade is A\")\n",
        "elif percentage >80:\n",
        "  print(\"Your Grade is B\")\n",
        "elif percentage >=60:\n",
        "  print(\"Your Grade is C\")\n",
        "else:\n",
        "  print(\"Your Grade is D\")\n"
      ]
    },
    {
      "cell_type": "code",
      "source": [
        "#Soln 2\n",
        "cost_of_bike = int(input(\"Enter cost of bike: \"))\n",
        "if cost_of_bike > 100000:\n",
        "  tax= 0.15\n",
        "elif cost_of_bike > 50000:\n",
        "  tax = 0.1\n",
        "else:\n",
        "  tax = 0.05\n",
        "road_tax = cost_of_bike * tax\n",
        "print(f\"Your tax amount is {road_tax}\")"
      ],
      "metadata": {
        "colab": {
          "base_uri": "https://localhost:8080/"
        },
        "id": "jnAi_YVThU23",
        "outputId": "784656eb-5bba-4958-fff3-8fc185a5000d"
      },
      "execution_count": 13,
      "outputs": [
        {
          "output_type": "stream",
          "name": "stdout",
          "text": [
            "Enter cost of bike: 75000\n",
            "Your tax amount is 7500.0\n"
          ]
        }
      ]
    },
    {
      "cell_type": "code",
      "source": [
        "#Soln 3\n",
        "city = input(\"Enter city name \").capitalize()\n",
        "if city == \"Delhi\":\n",
        "  print(\"Monument : Red Fort\")\n",
        "elif city == \"Agra\":\n",
        "  print(\"Monument : Taj Mahal\")\n",
        "elif city == \"Jaipur\":\n",
        "  print(\"Monument : Jal Mahal\")\n",
        "else:\n",
        "  print(\"Enter city from Delhi,Agra,Jaipur to see their monument\")"
      ],
      "metadata": {
        "colab": {
          "base_uri": "https://localhost:8080/"
        },
        "id": "TOhl0k9-kjzz",
        "outputId": "1d70934d-1a13-450e-b5c9-b8f7452dfdc2"
      },
      "execution_count": 16,
      "outputs": [
        {
          "output_type": "stream",
          "name": "stdout",
          "text": [
            "Enter city name agra\n",
            "Monument : Taj Mahal\n"
          ]
        }
      ]
    },
    {
      "cell_type": "code",
      "source": [
        "#Soln 4\n",
        "num = int(input(\"Enter a number \"))\n",
        "count = 0\n",
        "while num > 10:\n",
        "  num = num/3\n",
        "  count +=1\n",
        "print(count)"
      ],
      "metadata": {
        "colab": {
          "base_uri": "https://localhost:8080/"
        },
        "id": "CAdJ1H4Jlxnz",
        "outputId": "ebfb5655-7a5b-4c7b-bcae-0bb26aff5de0"
      },
      "execution_count": 23,
      "outputs": [
        {
          "output_type": "stream",
          "name": "stdout",
          "text": [
            "Enter a number 5000\n",
            "6\n"
          ]
        }
      ]
    },
    {
      "cell_type": "markdown",
      "source": [
        "**Soln 5**"
      ],
      "metadata": {
        "id": "UZZeuWBwrm0X"
      }
    },
    {
      "cell_type": "markdown",
      "source": [
        "**while Loops**\n",
        "\n",
        "The while statement in Python is one of most general ways to perform iteration. A while statement will repeatedly execute a single statement or group of statements as long as the condition is true. The reason it is called a 'loop' is because the code statements are looped through over and over again until the condition is no longer met.\n",
        "\n",
        "The general format of a while loop is:\n",
        "\n",
        "while test:\n",
        "    code statements\n",
        "else:\n",
        "    final code statements\n"
      ],
      "metadata": {
        "id": "wlWyo7_Vnz-0"
      }
    },
    {
      "cell_type": "code",
      "source": [
        "x = 0\n",
        "\n",
        "while x < 10:\n",
        "    print('x is currently: ',x)\n",
        "    print(' x is still less than 10, adding 1 to x')\n",
        "    x+=1"
      ],
      "metadata": {
        "colab": {
          "base_uri": "https://localhost:8080/"
        },
        "id": "T8skPRA7n9Da",
        "outputId": "42063b24-3c6e-4d1c-ac03-816279a684ac"
      },
      "execution_count": 24,
      "outputs": [
        {
          "output_type": "stream",
          "name": "stdout",
          "text": [
            "x is currently:  0\n",
            " x is still less than 10, adding 1 to x\n",
            "x is currently:  1\n",
            " x is still less than 10, adding 1 to x\n",
            "x is currently:  2\n",
            " x is still less than 10, adding 1 to x\n",
            "x is currently:  3\n",
            " x is still less than 10, adding 1 to x\n",
            "x is currently:  4\n",
            " x is still less than 10, adding 1 to x\n",
            "x is currently:  5\n",
            " x is still less than 10, adding 1 to x\n",
            "x is currently:  6\n",
            " x is still less than 10, adding 1 to x\n",
            "x is currently:  7\n",
            " x is still less than 10, adding 1 to x\n",
            "x is currently:  8\n",
            " x is still less than 10, adding 1 to x\n",
            "x is currently:  9\n",
            " x is still less than 10, adding 1 to x\n"
          ]
        }
      ]
    },
    {
      "cell_type": "markdown",
      "source": [
        "**Soln 6**"
      ],
      "metadata": {
        "id": "cpD2q-5ZrrLE"
      }
    },
    {
      "cell_type": "code",
      "source": [
        "rows = 5\n",
        "i = 1\n",
        "while i <= rows:\n",
        "    j = 1\n",
        "    while j <= i:\n",
        "        print((i * 2 - 1), end=\" \")\n",
        "        j = j + 1\n",
        "    i = i + 1\n",
        "    print('')"
      ],
      "metadata": {
        "colab": {
          "base_uri": "https://localhost:8080/"
        },
        "id": "Nr0WncxDoT6D",
        "outputId": "5f3da736-a27f-4ff4-e03c-2938d921590a"
      },
      "execution_count": 25,
      "outputs": [
        {
          "output_type": "stream",
          "name": "stdout",
          "text": [
            "1 \n",
            "3 3 \n",
            "5 5 5 \n",
            "7 7 7 7 \n",
            "9 9 9 9 9 \n"
          ]
        }
      ]
    },
    {
      "cell_type": "code",
      "source": [
        "n = int(input('Enter number of rows : '))\n",
        "\n",
        "i = 1\n",
        "while i <= n :\n",
        "    j = 1\n",
        "    while j <= i:\n",
        "        print(\"*\", end = \" \")\n",
        "        j += 1\n",
        "    print()\n",
        "    i += 1"
      ],
      "metadata": {
        "colab": {
          "base_uri": "https://localhost:8080/"
        },
        "id": "-wpc_GarpreW",
        "outputId": "31c59d62-04ae-4893-c5ed-831715cff946"
      },
      "execution_count": 26,
      "outputs": [
        {
          "output_type": "stream",
          "name": "stdout",
          "text": [
            "Enter number of rows : 5\n",
            "* \n",
            "* * \n",
            "* * * \n",
            "* * * * \n",
            "* * * * * \n"
          ]
        }
      ]
    },
    {
      "cell_type": "code",
      "source": [
        "n = int(input('Enter number of rows : '))\n",
        " \n",
        "i = 1\n",
        "while i <= n :\n",
        "    j = n\n",
        "    while j >= i:\n",
        "        print(\"*\", end = \" \")\n",
        "        j -= 1\n",
        "    print()\n",
        "    i += 1"
      ],
      "metadata": {
        "colab": {
          "base_uri": "https://localhost:8080/"
        },
        "id": "Pbp20wqOqOfa",
        "outputId": "d4e100d9-b023-434f-a024-7fbd2f79d8b4"
      },
      "execution_count": 27,
      "outputs": [
        {
          "output_type": "stream",
          "name": "stdout",
          "text": [
            "Enter number of rows : 6\n",
            "* * * * * * \n",
            "* * * * * \n",
            "* * * * \n",
            "* * * \n",
            "* * \n",
            "* \n"
          ]
        }
      ]
    },
    {
      "cell_type": "markdown",
      "source": [
        "**Soln 7**"
      ],
      "metadata": {
        "id": "_F0lge3srxdI"
      }
    },
    {
      "cell_type": "code",
      "source": [
        "i = 10\n",
        "while i > 0:\n",
        "    print(i)\n",
        "    i = i - 1"
      ],
      "metadata": {
        "colab": {
          "base_uri": "https://localhost:8080/"
        },
        "id": "t73poyLWqTmj",
        "outputId": "079237d6-f8f0-4dbe-e4cd-3d1ab9f822d8"
      },
      "execution_count": 28,
      "outputs": [
        {
          "output_type": "stream",
          "name": "stdout",
          "text": [
            "10\n",
            "9\n",
            "8\n",
            "7\n",
            "6\n",
            "5\n",
            "4\n",
            "3\n",
            "2\n",
            "1\n"
          ]
        }
      ]
    },
    {
      "cell_type": "markdown",
      "source": [
        "**Soln 8**"
      ],
      "metadata": {
        "id": "z5Yiyb86r0kW"
      }
    },
    {
      "cell_type": "code",
      "source": [
        "#Q7 & Q8 are same\n",
        "i = 10\n",
        "while i > 0:\n",
        "    print(i)\n",
        "    i = i - 1\n"
      ],
      "metadata": {
        "colab": {
          "base_uri": "https://localhost:8080/"
        },
        "id": "6Z3xgJUpr4Cj",
        "outputId": "a61cf651-2a6c-4c89-e8df-82f2f0d820bd"
      },
      "execution_count": 29,
      "outputs": [
        {
          "output_type": "stream",
          "name": "stdout",
          "text": [
            "10\n",
            "9\n",
            "8\n",
            "7\n",
            "6\n",
            "5\n",
            "4\n",
            "3\n",
            "2\n",
            "1\n"
          ]
        }
      ]
    }
  ]
}